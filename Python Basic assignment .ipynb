{
 "cells": [
  {
   "cell_type": "code",
   "execution_count": 1,
   "id": "1eee7e32-4204-4697-97e1-e1f1f36a3d10",
   "metadata": {},
   "outputs": [
    {
     "name": "stdout",
     "output_type": "stream",
     "text": [
      "Hello, World!\n"
     ]
    }
   ],
   "source": [
    "#Explain the key features of Python that make it a popular choice for programming ?\n",
    "##Answer..\n",
    "#Key Features of Python:-\n",
    "#Simplicity and Readability\n",
    "#Extensive Libraries\n",
    "#Cross-Platform Compatibility\n",
    "#Community Support\n",
    "#Interpreted Language\n",
    "\n",
    "#Example\n",
    "# Simple Python code demonstrating readability\n",
    "def greet(name):\n",
    "    return f\"Hello, {name}!\"\n",
    "\n",
    "print(greet(\"World\"))\n",
    "\n"
   ]
  },
  {
   "cell_type": "code",
   "execution_count": 2,
   "id": "c4c327af-6caa-44bc-8c59-ef525467e3d3",
   "metadata": {},
   "outputs": [
    {
     "name": "stdout",
     "output_type": "stream",
     "text": [
      "This is a keyword example\n"
     ]
    }
   ],
   "source": [
    "#Describe the role of predefined keywords in Python and provide examples of how they are used in a program.\n",
    "\n",
    "#Role of Predefined Keywords in Python:\n",
    "\n",
    "#Predefined keywords are reserved words in Python that have special meanings.\n",
    "#Examples: if, else, while, for, try, except.\n",
    "\n",
    "# Using predefined keywords\n",
    "if True:\n",
    "    print(\"This is a keyword example\")\n"
   ]
  },
  {
   "cell_type": "code",
   "execution_count": 10,
   "id": "c9c367b4-d89e-43e4-ad5e-34c3fbe9f52e",
   "metadata": {},
   "outputs": [],
   "source": [
    "# Compare and contrast mutable and immutable objects in Python with examples?\n",
    "\n",
    "#Mutable Objects: Objects whose state can be changed after creation (e.g., lists, dictionaries).\n",
    "#Immutable Objects: Objects whose state cannot be changed after creation (e.g., strings, tuples).\n",
    "\n",
    "# Mutable list\n",
    "my_list = [1, 2, 3]\n",
    "my_list[0] = 10  # List is mutable, so it can be changed\n",
    "\n",
    "# Immutable string\n",
    "my_string = \"Hello\"\n",
    "# my_string[0] = \"J\"  # This will raise an error because strings are immutable\n"
   ]
  },
  {
   "cell_type": "code",
   "execution_count": 9,
   "id": "18d33840-334a-4386-a2ca-9a67612c5e0e",
   "metadata": {},
   "outputs": [
    {
     "data": {
      "text/plain": [
       "[10, 2, 3]"
      ]
     },
     "execution_count": 9,
     "metadata": {},
     "output_type": "execute_result"
    }
   ],
   "source": [
    "my_list\n"
   ]
  },
  {
   "cell_type": "code",
   "execution_count": 11,
   "id": "ff154fb5-b5b5-49d6-a012-d6a76206e218",
   "metadata": {},
   "outputs": [],
   "source": [
    "#Discuss the different types of operators in Python and provide examples of how they are used ?\n",
    "\n",
    "#Arithmetic Operators: +, -, *, /, %, etc.\n",
    "#Comparison Operators: ==, !=, >, <, >=, <=.\n",
    "#Logical Operators: and, or, not.\n",
    "#Assignment Operators: =, +=, -=, *=, etc.\n",
    "\n",
    "#Example:\n",
    "\n",
    "\n",
    "# Arithmetic and comparison operators\n",
    "a = 10\n",
    "b = 5\n",
    "result = a + b  # Addition\n",
    "is_equal = a == b  # Comparison"
   ]
  },
  {
   "cell_type": "code",
   "execution_count": 12,
   "id": "570e8030-ed51-4dc2-801a-08748b995d8f",
   "metadata": {},
   "outputs": [
    {
     "data": {
      "text/plain": [
       "15"
      ]
     },
     "execution_count": 12,
     "metadata": {},
     "output_type": "execute_result"
    }
   ],
   "source": [
    "a+b"
   ]
  },
  {
   "cell_type": "code",
   "execution_count": 13,
   "id": "6b078f9e-2245-40e1-98c5-6829576f5dc0",
   "metadata": {},
   "outputs": [],
   "source": [
    "#Explain the concept of type casting in Python with examples ?\n",
    "\n",
    "# ANS:-\n",
    "#Converting one data type to another.\n",
    "#Explicit Type Casting: Using functions like int(), float(), str().\n",
    "#Implicit Type Casting: Python automatically converts data types during operations.\n",
    "\n",
    "# Explicit type casting\n",
    "number = 10\n",
    "converted_number = float(number)  # Convert integer to float\n",
    "\n",
    "\n"
   ]
  },
  {
   "cell_type": "code",
   "execution_count": 14,
   "id": "22c07591-d75e-4e66-8e52-f15db0010cfc",
   "metadata": {},
   "outputs": [
    {
     "data": {
      "text/plain": [
       "10"
      ]
     },
     "execution_count": 14,
     "metadata": {},
     "output_type": "execute_result"
    }
   ],
   "source": [
    "number"
   ]
  },
  {
   "cell_type": "code",
   "execution_count": 15,
   "id": "980aa400-614e-4b76-9b85-429442451349",
   "metadata": {},
   "outputs": [
    {
     "name": "stdout",
     "output_type": "stream",
     "text": [
      "x is greater than 5\n"
     ]
    }
   ],
   "source": [
    "# How do conditional statements work in Python? Illustrate with examples.\n",
    "\n",
    "#ans:-\n",
    "\n",
    "#Used to execute code based on certain conditions.\n",
    "#If-Else Statements: if, elif, else.\n",
    "# Conditional statement\n",
    "x = 10\n",
    "if x > 5:\n",
    "    print(\"x is greater than 5\")\n",
    "else:\n",
    "    print(\"x is not greater than 5\")\n"
   ]
  },
  {
   "cell_type": "code",
   "execution_count": 16,
   "id": "248247d6-5929-499d-8fde-431a65d73569",
   "metadata": {},
   "outputs": [
    {
     "name": "stdout",
     "output_type": "stream",
     "text": [
      "0\n",
      "1\n",
      "2\n",
      "3\n",
      "4\n",
      "0\n",
      "1\n",
      "2\n",
      "3\n",
      "4\n"
     ]
    }
   ],
   "source": [
    "#Describe the different types of loops in Python and their use cases with example ?\n",
    "\n",
    "#Ans:-\n",
    "\n",
    "#For Loop: Used to iterate over a sequence (list, tuple, string).\n",
    "# While Loop: Repeats as long as a condition is true.\n",
    "\n",
    "#Example\n",
    "\n",
    "# For loop\n",
    "for i in range(5):\n",
    "    print(i)\n",
    "\n",
    "# While loop\n",
    "count = 0\n",
    "while count < 5:\n",
    "    print(count)\n",
    "    count += 1\n"
   ]
  },
  {
   "cell_type": "code",
   "execution_count": null,
   "id": "0bc662b1-bcc2-4ea7-a129-fde48e020d1e",
   "metadata": {},
   "outputs": [],
   "source": []
  }
 ],
 "metadata": {
  "kernelspec": {
   "display_name": "Python 3 (ipykernel)",
   "language": "python",
   "name": "python3"
  },
  "language_info": {
   "codemirror_mode": {
    "name": "ipython",
    "version": 3
   },
   "file_extension": ".py",
   "mimetype": "text/x-python",
   "name": "python",
   "nbconvert_exporter": "python",
   "pygments_lexer": "ipython3",
   "version": "3.10.8"
  }
 },
 "nbformat": 4,
 "nbformat_minor": 5
}
